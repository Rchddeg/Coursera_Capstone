{
  "nbformat": 4,
  "nbformat_minor": 0,
  "metadata": {
    "colab": {
      "name": "CapstoneProjectNotebook-week1.ipynb",
      "provenance": [],
      "authorship_tag": "ABX9TyNOVU/Bj4BqfqJrZduCj8ha"
    },
    "kernelspec": {
      "name": "python3",
      "display_name": "Python 3"
    }
  },
  "cells": [
    {
      "cell_type": "markdown",
      "metadata": {
        "id": "JZK-LX3dlykg",
        "colab_type": "text"
      },
      "source": [
        "\n",
        "##This notebook will be mainly used for the IBM's Applied Data Science Capstone Project\n",
        "\n",
        "**Author: Rachid De Graaff**\n"
      ]
    },
    {
      "cell_type": "code",
      "metadata": {
        "id": "fw8viCMyl-3i",
        "colab_type": "code",
        "colab": {}
      },
      "source": [
        "import numpy as np\n",
        "import pandas as pd "
      ],
      "execution_count": 0,
      "outputs": []
    },
    {
      "cell_type": "code",
      "metadata": {
        "id": "panZjPPEmBrq",
        "colab_type": "code",
        "colab": {
          "base_uri": "https://localhost:8080/",
          "height": 34
        },
        "outputId": "35fb1e8b-b548-4532-e5e2-ec4cf6791b95"
      },
      "source": [
        "print(\"Hello Capstone Project Course!\")"
      ],
      "execution_count": 3,
      "outputs": [
        {
          "output_type": "stream",
          "text": [
            "Hello Capstone Project Course\n"
          ],
          "name": "stdout"
        }
      ]
    },
    {
      "cell_type": "code",
      "metadata": {
        "id": "vpMJUr5HmChT",
        "colab_type": "code",
        "colab": {}
      },
      "source": [
        ""
      ],
      "execution_count": 0,
      "outputs": []
    }
  ]
}